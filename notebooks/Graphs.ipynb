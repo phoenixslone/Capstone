{
 "cells": [
  {
   "cell_type": "code",
   "execution_count": null,
   "id": "b8c9775a",
   "metadata": {},
   "outputs": [],
   "source": [
    "import pandas as pd\n",
    "import seaborn as sns\n",
    "import matplotlib.pyplot as plt"
   ]
  },
  {
   "cell_type": "code",
   "execution_count": null,
   "id": "def24104",
   "metadata": {},
   "outputs": [],
   "source": [
    "life = pd.read_csv('C:/Users/Home/Desktop/NSS- DDA10/phoenix_capstone/data/fixed_life_years.csv')"
   ]
  },
  {
   "cell_type": "code",
   "execution_count": null,
   "id": "e6a020e3",
   "metadata": {},
   "outputs": [],
   "source": [
    "life"
   ]
  },
  {
   "cell_type": "markdown",
   "id": "56afa258",
   "metadata": {},
   "source": [
    "# Distribution of Life Expectancy of All Countries"
   ]
  },
  {
   "cell_type": "code",
   "execution_count": null,
   "id": "7a574c29",
   "metadata": {
    "scrolled": false
   },
   "outputs": [],
   "source": [
    "plt.figure(figsize=(10, 6))\n",
    "plt.hist(life['Life Expectancy'], bins=20, edgecolor='black', color='green', alpha=0.7)\n",
    "plt.title('Distribution of Life Expectancy')\n",
    "plt.xlabel('Life Expectancy')\n",
    "plt.ylabel('Frequency')\n",
    "plt.grid(True)\n",
    "plt.show()"
   ]
  },
  {
   "cell_type": "code",
   "execution_count": null,
   "id": "9e93c7a8",
   "metadata": {},
   "outputs": [],
   "source": [
    "smoking_rates = pd.read_csv('C:/Users/Home/Desktop/NSS- DDA10/phoenix_capstone/data/smoking_2010_2015.csv')"
   ]
  },
  {
   "cell_type": "code",
   "execution_count": null,
   "id": "a3886a61",
   "metadata": {},
   "outputs": [],
   "source": [
    "smoking_rates"
   ]
  },
  {
   "cell_type": "code",
   "execution_count": null,
   "id": "545dbf5c",
   "metadata": {},
   "outputs": [],
   "source": [
    "life_smoking = pd.merge(life, smoking_rates, \n",
    "                               left_on = ['Country','Year'], right_on = ['Country', 'Year'], \n",
    "                               how = 'inner')\n",
    "life_smoking"
   ]
  },
  {
   "cell_type": "markdown",
   "id": "276da7e6",
   "metadata": {},
   "source": [
    "# Effect of Smoking Rates on Life Expectancy Over All Countries"
   ]
  },
  {
   "cell_type": "code",
   "execution_count": null,
   "id": "daeff829",
   "metadata": {},
   "outputs": [],
   "source": [
    "cc_life_smoking = life_smoking['Life Expectancy'].corr(life_smoking['Deaths by Smoking'])\n",
    "cc_life_smoking"
   ]
  },
  {
   "cell_type": "code",
   "execution_count": null,
   "id": "09505a1f",
   "metadata": {},
   "outputs": [],
   "source": [
    "plt.figure(figsize=(10, 6))\n",
    "plt.scatter(life_smoking['Life Expectancy'], life_smoking['Deaths by Smoking'], color='green', edgecolor = 'darkgreen')\n",
    "plt.title('Effect of Smoking Rates on Life Expectancy')\n",
    "plt.ylabel('Smoking Rate (%)')\n",
    "plt.xlabel('Life Expectancy')\n",
    "plt.grid(True)\n",
    "plt.show()"
   ]
  },
  {
   "cell_type": "markdown",
   "id": "7fb5fce9",
   "metadata": {},
   "source": [
    "- smoking has positive correlation on lower life expectancy"
   ]
  },
  {
   "cell_type": "code",
   "execution_count": null,
   "id": "3dbed075",
   "metadata": {},
   "outputs": [],
   "source": [
    "status = pd.read_csv('C:/Users/Home/Desktop/NSS- DDA10/phoenix_capstone/data/dgp_dev_2010_2015.csv')"
   ]
  },
  {
   "cell_type": "code",
   "execution_count": null,
   "id": "09a09d0e",
   "metadata": {},
   "outputs": [],
   "source": [
    "status"
   ]
  },
  {
   "cell_type": "code",
   "execution_count": null,
   "id": "511a5f52",
   "metadata": {},
   "outputs": [],
   "source": [
    "life_smoking_dev = pd.merge(life_smoking, status, \n",
    "                               left_on = ['Country', 'Year'], right_on = ['Country', 'Year'], \n",
    "                               how = 'inner')\n",
    "life_smoking_dev"
   ]
  },
  {
   "cell_type": "markdown",
   "id": "43f9b6c6",
   "metadata": {},
   "source": [
    "# Effects of Smoking on Life Expectancy of Developing Countries"
   ]
  },
  {
   "cell_type": "code",
   "execution_count": null,
   "id": "9abaf9bd",
   "metadata": {},
   "outputs": [],
   "source": [
    "developing_smoking = life_smoking_dev[life_smoking_dev['Status'] == 'Developing']"
   ]
  },
  {
   "cell_type": "code",
   "execution_count": null,
   "id": "2d0daee2",
   "metadata": {},
   "outputs": [],
   "source": [
    "plt.figure(figsize=(10, 6))\n",
    "plt.scatter(developing_smoking['Life Expectancy'], developing_smoking['Deaths by Smoking'], color='green')\n",
    "plt.title('Effect of Smoking Rates on Life Expectancy')\n",
    "plt.ylabel('Smoking Rate (%)')\n",
    "plt.xlabel('Life Expectancy')\n",
    "plt.grid(True)\n",
    "plt.show()"
   ]
  },
  {
   "cell_type": "markdown",
   "id": "8e30e457",
   "metadata": {},
   "source": [
    "- Positive Correlation"
   ]
  },
  {
   "cell_type": "markdown",
   "id": "e3416283",
   "metadata": {},
   "source": [
    "# Effects of Smoking on Life Expectancy of Developed Countries"
   ]
  },
  {
   "cell_type": "code",
   "execution_count": null,
   "id": "6f94722c",
   "metadata": {},
   "outputs": [],
   "source": [
    "developed_smoking = life_smoking_dev[life_smoking_dev['Status']== 'Developed']"
   ]
  },
  {
   "cell_type": "code",
   "execution_count": null,
   "id": "2b838db2",
   "metadata": {},
   "outputs": [],
   "source": [
    "plt.figure(figsize=(10, 6))\n",
    "plt.scatter(developed_smoking['Life Expectancy'], developed_smoking['Deaths by Smoking'], color='green')\n",
    "plt.title('Effect of Smoking Rates on Life Expectancy')\n",
    "plt.ylabel('Smoking Rate (%)')\n",
    "plt.xlabel('Life Expectancy (%)')\n",
    "plt.grid(True)\n",
    "plt.show()"
   ]
  },
  {
   "cell_type": "markdown",
   "id": "e4714534",
   "metadata": {},
   "source": [
    "# GDP Correlation of All Countries"
   ]
  },
  {
   "cell_type": "code",
   "execution_count": null,
   "id": "d107943b",
   "metadata": {},
   "outputs": [],
   "source": [
    "life_smoking_dev"
   ]
  },
  {
   "cell_type": "code",
   "execution_count": null,
   "id": "151f9834",
   "metadata": {},
   "outputs": [],
   "source": [
    "plt.figure(figsize=(10, 6))\n",
    "plt.hist(life_smoking_dev['GDP'], bins=50, edgecolor='black', color='green')\n",
    "plt.title('Distribution of GDP')\n",
    "plt.xlabel('GDP')\n",
    "plt.ylabel('Frequency')\n",
    "plt.grid(True)\n",
    "plt.show()"
   ]
  },
  {
   "cell_type": "code",
   "execution_count": null,
   "id": "dca3d92c",
   "metadata": {},
   "outputs": [],
   "source": [
    "developed_smoking = developed_smoking.astype({'GDP': float})"
   ]
  },
  {
   "cell_type": "code",
   "execution_count": null,
   "id": "e4a3d877",
   "metadata": {},
   "outputs": [],
   "source": [
    "developed_smoking = developed_smoking.sort_values(by = 'GDP', ascending = False)"
   ]
  },
  {
   "cell_type": "code",
   "execution_count": null,
   "id": "64d567d5",
   "metadata": {},
   "outputs": [],
   "source": [
    "plt.figure(figsize=(10,9))\n",
    "plt.scatter(developed_smoking['Life Expectancy'], developed_smoking['GDP'], color='green', edgecolor= 'darkgreen')\n",
    "plt.title('Affect of GDP Per Capita on Life Expectancy')\n",
    "plt.ylabel('GDP Per Capita')\n",
    "plt.xlabel('Life Expectancy')\n",
    "plt.grid(True)\n",
    "plt.show()"
   ]
  },
  {
   "cell_type": "code",
   "execution_count": null,
   "id": "ad737d1a",
   "metadata": {},
   "outputs": [],
   "source": [
    "developing_smoking = developing_smoking.astype({'GDP': float})"
   ]
  },
  {
   "cell_type": "code",
   "execution_count": null,
   "id": "c9d48f59",
   "metadata": {},
   "outputs": [],
   "source": [
    "developing_smoking = developing_smoking.sort_values(by = 'GDP', ascending = False)"
   ]
  },
  {
   "cell_type": "code",
   "execution_count": null,
   "id": "d2337a27",
   "metadata": {},
   "outputs": [],
   "source": [
    "plt.figure(figsize=(10,9))\n",
    "plt.scatter(developing_smoking['Life Expectancy'], developing_smoking['GDP'], color='green', edgecolor= 'darkgreen')\n",
    "plt.title('Affect of GDP Per Capita on Life Expectancy')\n",
    "plt.ylabel('GDP Per Capita')\n",
    "plt.xlabel('Life Expectancy')\n",
    "plt.grid(True)\n",
    "plt.show()"
   ]
  },
  {
   "cell_type": "code",
   "execution_count": null,
   "id": "aa9105ed",
   "metadata": {},
   "outputs": [],
   "source": []
  },
  {
   "cell_type": "code",
   "execution_count": null,
   "id": "a1c5f156",
   "metadata": {},
   "outputs": [],
   "source": [
    "alcohol = pd.read_csv('C:/Users/Home/Desktop/NSS- DDA10/phoenix_capstone/data/alcohol_2010_2015.csv')"
   ]
  },
  {
   "cell_type": "code",
   "execution_count": null,
   "id": "dea8198b",
   "metadata": {},
   "outputs": [],
   "source": [
    "alcohol = alcohol.drop(columns = ['Unnamed: 0'])\n",
    "alcohol"
   ]
  },
  {
   "cell_type": "code",
   "execution_count": null,
   "id": "f0c04dfe",
   "metadata": {},
   "outputs": [],
   "source": [
    "life_alcohol = pd.merge(life, alcohol, \n",
    "                               left_on = ['Country', 'Code', 'Year'], right_on = ['Country', 'Code', 'Year'], \n",
    "                               how = 'inner')\n",
    "life_alcohol"
   ]
  },
  {
   "cell_type": "markdown",
   "id": "f596d412",
   "metadata": {},
   "source": [
    "# Effect of Alcohol Consumption on Life Expectancy over All Countries"
   ]
  },
  {
   "cell_type": "code",
   "execution_count": null,
   "id": "75e0d740",
   "metadata": {},
   "outputs": [],
   "source": [
    "plt.figure(figsize=(10, 6))\n",
    "plt.scatter(life_alcohol['Life Expectancy'], life_alcohol['Consumption of Alcohol'], color='darkgreen')\n",
    "plt.title('Effect of Consumption of Alcohol on Life Expectancy')\n",
    "plt.ylabel('Consumption of Alcohol (%)')\n",
    "plt.xlabel('Life Expectancy')\n",
    "plt.grid(True)\n",
    "plt.show()"
   ]
  },
  {
   "cell_type": "code",
   "execution_count": null,
   "id": "81bc932e",
   "metadata": {},
   "outputs": [],
   "source": [
    "life_alcohol_dev = pd.merge(life_alcohol, status, \n",
    "                               left_on = ['Country', 'Year'], right_on = ['Country', 'Year'], \n",
    "                               how = 'inner')\n",
    "life_alcohol_dev"
   ]
  },
  {
   "cell_type": "markdown",
   "id": "0e7d064a",
   "metadata": {},
   "source": [
    "# Alcohol Consumption on Life Expectancy for Developing Countries"
   ]
  },
  {
   "cell_type": "code",
   "execution_count": null,
   "id": "a1b1ea16",
   "metadata": {},
   "outputs": [],
   "source": [
    "developing_alcohol = life_alcohol_dev[life_alcohol_dev['Status'] == 'Developing']"
   ]
  },
  {
   "cell_type": "code",
   "execution_count": null,
   "id": "3807aef9",
   "metadata": {},
   "outputs": [],
   "source": [
    "plt.figure(figsize=(10, 6))\n",
    "plt.scatter(developing_alcohol['Life Expectancy'], developing_alcohol['Consumption of Alcohol'], color='darkgreen')\n",
    "plt.title('Affect of Consumption of Alcohol on Life Expectancy')\n",
    "plt.ylabel('Consumption of Alcohol (%)')\n",
    "plt.xlabel('Life Expectancy')\n",
    "plt.grid(True)\n",
    "plt.show()"
   ]
  },
  {
   "cell_type": "code",
   "execution_count": null,
   "id": "bafae610",
   "metadata": {},
   "outputs": [],
   "source": []
  },
  {
   "cell_type": "markdown",
   "id": "3ed4a657",
   "metadata": {},
   "source": [
    "# Alcohol Consumption on Life Expectancy for Developed Countries"
   ]
  },
  {
   "cell_type": "code",
   "execution_count": null,
   "id": "724d0c23",
   "metadata": {},
   "outputs": [],
   "source": [
    "developed_alcohol = life_alcohol_dev[life_alcohol_dev['Status'] == 'Developed']"
   ]
  },
  {
   "cell_type": "code",
   "execution_count": null,
   "id": "52fa22c9",
   "metadata": {},
   "outputs": [],
   "source": [
    "plt.figure(figsize=(10, 6))\n",
    "plt.scatter(developed_alcohol['Life Expectancy'], developed_alcohol['Consumption of Alcohol'], color='darkgreen')\n",
    "plt.title('Affect of Consumption of Alcohol on Life Expectancy')\n",
    "plt.ylabel('Consumption of Alcohol (%)')\n",
    "plt.xlabel('Life Expectancy')\n",
    "plt.grid(True)\n",
    "plt.show()"
   ]
  },
  {
   "cell_type": "code",
   "execution_count": null,
   "id": "40ae8806",
   "metadata": {},
   "outputs": [],
   "source": []
  }
 ],
 "metadata": {
  "kernelspec": {
   "display_name": "Python 3 (ipykernel)",
   "language": "python",
   "name": "python3"
  },
  "language_info": {
   "codemirror_mode": {
    "name": "ipython",
    "version": 3
   },
   "file_extension": ".py",
   "mimetype": "text/x-python",
   "name": "python",
   "nbconvert_exporter": "python",
   "pygments_lexer": "ipython3",
   "version": "3.10.9"
  }
 },
 "nbformat": 4,
 "nbformat_minor": 5
}
