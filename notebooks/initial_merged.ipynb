{
 "cells": [
  {
   "cell_type": "code",
   "execution_count": null,
   "id": "157718ec",
   "metadata": {},
   "outputs": [],
   "source": [
    "import requests\n",
    "import pandas as pd\n",
    "from bs4 import BeautifulSoup as BS"
   ]
  },
  {
   "cell_type": "markdown",
   "id": "458ce10e",
   "metadata": {},
   "source": [
    "# Life Expectancy"
   ]
  },
  {
   "cell_type": "code",
   "execution_count": null,
   "id": "36776df3",
   "metadata": {},
   "outputs": [],
   "source": [
    "life = pd.read_csv('C:/Users/Home/Desktop/NSS- DDA10/phoenix_capstone/data/life_expectancy.csv')"
   ]
  },
  {
   "cell_type": "code",
   "execution_count": null,
   "id": "3ca6dac4",
   "metadata": {},
   "outputs": [],
   "source": [
    "life"
   ]
  },
  {
   "cell_type": "code",
   "execution_count": null,
   "id": "b114e0ec",
   "metadata": {},
   "outputs": [],
   "source": [
    "life_expectancy= life[['Country Name', 'Country Code', '2010', '2011', '2012', '2013', '2014', '2015']]"
   ]
  },
  {
   "cell_type": "code",
   "execution_count": null,
   "id": "7dc41aaf",
   "metadata": {},
   "outputs": [],
   "source": [
    "life_expectancy"
   ]
  },
  {
   "cell_type": "markdown",
   "id": "73d34164",
   "metadata": {},
   "source": [
    "life_expectancy.to_csv('life_years.csv')"
   ]
  },
  {
   "cell_type": "markdown",
   "id": "0cfd6943",
   "metadata": {},
   "source": [
    "# Smoking Rates"
   ]
  },
  {
   "cell_type": "code",
   "execution_count": null,
   "id": "ce3e8ab3",
   "metadata": {},
   "outputs": [],
   "source": [
    "smoking_rates = pd.read_csv('C:/Users/Home/Desktop/NSS- DDA10/phoenix_capstone/data/share-deaths-smoking.csv')"
   ]
  },
  {
   "cell_type": "code",
   "execution_count": null,
   "id": "75dd16d4",
   "metadata": {},
   "outputs": [],
   "source": [
    "smoking_rates"
   ]
  },
  {
   "cell_type": "code",
   "execution_count": null,
   "id": "24261c80",
   "metadata": {
    "scrolled": true
   },
   "outputs": [],
   "source": [
    "smoking_rates.dtypes"
   ]
  },
  {
   "cell_type": "code",
   "execution_count": null,
   "id": "523efd27",
   "metadata": {},
   "outputs": [],
   "source": [
    "smoking_years = smoking_rates[(smoking_rates['Year'] >= 2010) & (smoking_rates['Year'] <= 2015)]"
   ]
  },
  {
   "cell_type": "code",
   "execution_count": null,
   "id": "e16fe26b",
   "metadata": {},
   "outputs": [],
   "source": [
    "smoking_years"
   ]
  },
  {
   "cell_type": "markdown",
   "id": "afcda5a1",
   "metadata": {},
   "source": [
    "smoking_years.to_csv('smoking_2010_2015.csv')"
   ]
  },
  {
   "cell_type": "markdown",
   "id": "0cf1ab8a",
   "metadata": {},
   "source": [
    "# Developed/ Developing & GDP"
   ]
  },
  {
   "cell_type": "code",
   "execution_count": null,
   "id": "593ebedd",
   "metadata": {},
   "outputs": [],
   "source": [
    "developing = pd.read_csv('C:/Users/Home/Desktop/NSS- DDA10/phoenix_capstone/data/gdp_dev.csv')"
   ]
  },
  {
   "cell_type": "code",
   "execution_count": null,
   "id": "b3ce5076",
   "metadata": {},
   "outputs": [],
   "source": [
    "developing"
   ]
  },
  {
   "cell_type": "code",
   "execution_count": null,
   "id": "32592063",
   "metadata": {},
   "outputs": [],
   "source": [
    "develop = developing[(developing['Year'] >= 2010) & (developing['Year'] <= 2015)]"
   ]
  },
  {
   "cell_type": "code",
   "execution_count": null,
   "id": "55a0afcf",
   "metadata": {},
   "outputs": [],
   "source": [
    "develop"
   ]
  },
  {
   "cell_type": "code",
   "execution_count": null,
   "id": "f8ce9a00",
   "metadata": {},
   "outputs": [],
   "source": [
    "develop_years = develop[['Country', 'Year', 'Status', 'GDP']]"
   ]
  },
  {
   "cell_type": "code",
   "execution_count": null,
   "id": "6734b8f7",
   "metadata": {},
   "outputs": [],
   "source": [
    "develop_years"
   ]
  },
  {
   "cell_type": "code",
   "execution_count": null,
   "id": "953d6c91",
   "metadata": {},
   "outputs": [],
   "source": [
    "develop_years['Year'] = pd.to_datetime(develop_years['Year'])"
   ]
  },
  {
   "cell_type": "markdown",
   "id": "49bc5351",
   "metadata": {},
   "source": [
    "develop_years.to_csv('gdp_dev_2010_2015.csv')"
   ]
  },
  {
   "cell_type": "markdown",
   "id": "417d7f17",
   "metadata": {},
   "source": [
    "# Alcohol"
   ]
  },
  {
   "cell_type": "code",
   "execution_count": null,
   "id": "ac1861d5",
   "metadata": {},
   "outputs": [],
   "source": [
    "alcohol = pd.read_csv('C:/Users/Home/Desktop/NSS- DDA10/phoenix_capstone/data/alcohol.csv')"
   ]
  },
  {
   "cell_type": "code",
   "execution_count": null,
   "id": "b5070380",
   "metadata": {},
   "outputs": [],
   "source": [
    "alcohol"
   ]
  },
  {
   "cell_type": "code",
   "execution_count": null,
   "id": "54ec41e9",
   "metadata": {},
   "outputs": [],
   "source": [
    "alcohol_years = alcohol[(alcohol['Year'] >= 2000) & (alcohol['Year'] <= 2015)]"
   ]
  },
  {
   "cell_type": "code",
   "execution_count": null,
   "id": "3496aece",
   "metadata": {},
   "outputs": [],
   "source": [
    "alcohol_years"
   ]
  },
  {
   "cell_type": "markdown",
   "id": "d2999ec1",
   "metadata": {},
   "source": [
    "alcohol_years.to_csv('alcohol_2010_2015.csv')"
   ]
  },
  {
   "cell_type": "markdown",
   "id": "dbbfb092",
   "metadata": {},
   "source": [
    "# Latitiude and Longitude for Countries (webscraped)"
   ]
  },
  {
   "cell_type": "code",
   "execution_count": null,
   "id": "33f6acc3",
   "metadata": {},
   "outputs": [],
   "source": [
    "URL = 'https://developers.google.com/public-data/docs/canonical/countries_csv'\n",
    "response = requests.get(URL)"
   ]
  },
  {
   "cell_type": "code",
   "execution_count": null,
   "id": "b0cb3b95",
   "metadata": {},
   "outputs": [],
   "source": [
    "response.status_code"
   ]
  },
  {
   "cell_type": "code",
   "execution_count": null,
   "id": "2c749a65",
   "metadata": {},
   "outputs": [],
   "source": [
    "soup = BS(response.text)"
   ]
  },
  {
   "cell_type": "code",
   "execution_count": null,
   "id": "23a6201e",
   "metadata": {},
   "outputs": [],
   "source": [
    "latlong = pd.read_html(str(soup.findAll('div', attrs={'class' : 'devsite-article-body'})))\n",
    "latlong"
   ]
  },
  {
   "cell_type": "code",
   "execution_count": null,
   "id": "40382668",
   "metadata": {},
   "outputs": [],
   "source": [
    "latlong_table=latlong[0]\n",
    "latlong_table"
   ]
  },
  {
   "cell_type": "code",
   "execution_count": null,
   "id": "9dd36f4b",
   "metadata": {},
   "outputs": [],
   "source": [
    "latlong_table= latlong_table.rename(columns = {'country': 'Code', 'latitude': 'Latitude', 'longitude' : 'Longitude', 'name' : 'Country'})\n",
    "latlong_table"
   ]
  },
  {
   "cell_type": "markdown",
   "id": "1876facc",
   "metadata": {},
   "source": [
    "latlong_table.to_csv('latlong.csv')"
   ]
  },
  {
   "cell_type": "markdown",
   "id": "489dd6cc",
   "metadata": {},
   "source": [
    "# Merged Data"
   ]
  },
  {
   "cell_type": "markdown",
   "id": "181e2f28",
   "metadata": {},
   "source": [
    "### Life and Alcohol"
   ]
  },
  {
   "cell_type": "code",
   "execution_count": null,
   "id": "e820f262",
   "metadata": {},
   "outputs": [],
   "source": [
    "fixed_life = pd.read_csv('C:/Users/Home/Desktop/NSS- DDA10/phoenix_capstone/data/fixed_life_years.csv')"
   ]
  },
  {
   "cell_type": "code",
   "execution_count": null,
   "id": "399c6feb",
   "metadata": {},
   "outputs": [],
   "source": [
    "life_alcohol = pd.merge(fixed_life, alcohol, \n",
    "                               left_on = ['Country', 'Code', 'Year'], right_on = ['Country', 'Code', 'Year'], \n",
    "                               how = 'inner')\n",
    "life_alcohol"
   ]
  },
  {
   "cell_type": "markdown",
   "id": "92c31bdc",
   "metadata": {},
   "source": [
    "life_alcohol.to_csv('life_alcohol_merge.csv')"
   ]
  },
  {
   "cell_type": "markdown",
   "id": "72d4b4a7",
   "metadata": {},
   "source": [
    "### Life and Dev/GDP"
   ]
  },
  {
   "cell_type": "code",
   "execution_count": null,
   "id": "d452a490",
   "metadata": {},
   "outputs": [],
   "source": [
    "fixed_dev_gdp = pd.read_csv('C:/Users/Home/Desktop/NSS- DDA10/phoenix_capstone/data/fixed_gdp.csv')"
   ]
  },
  {
   "cell_type": "code",
   "execution_count": null,
   "id": "2990bb30",
   "metadata": {},
   "outputs": [],
   "source": [
    "life_dev_gdp = pd.merge(fixed_life, fixed_dev_gdp, \n",
    "                               left_on = ['Country', 'Year'], right_on = ['Country', 'Year'], \n",
    "                               how = 'inner')\n",
    "life_dev_gdp"
   ]
  },
  {
   "cell_type": "markdown",
   "id": "cc645eb4",
   "metadata": {},
   "source": [
    "life_dev_gdp.to_csv('life_dev_gdp_merge.csv')"
   ]
  },
  {
   "cell_type": "markdown",
   "id": "7dcb3423",
   "metadata": {},
   "source": [
    "### Life Alcohol Dev/GDP"
   ]
  },
  {
   "cell_type": "code",
   "execution_count": null,
   "id": "1c4a04f9",
   "metadata": {},
   "outputs": [],
   "source": [
    "life_alcohol_dev = pd.merge(life_dev_gdp, alcohol_years, \n",
    "                               left_on = ['Country', 'Code', 'Year'], right_on = ['Country', 'Code', 'Year'], \n",
    "                               how = 'inner')\n",
    "life_alcohol_dev"
   ]
  },
  {
   "cell_type": "markdown",
   "id": "3a669aa8",
   "metadata": {},
   "source": [
    "life_alcohol_dev.to_csv('life_alcohol_dev_merge.csv')"
   ]
  },
  {
   "cell_type": "markdown",
   "id": "707c5b60",
   "metadata": {},
   "source": [
    "### Life and Smoking"
   ]
  },
  {
   "cell_type": "code",
   "execution_count": null,
   "id": "5ee2c339",
   "metadata": {},
   "outputs": [],
   "source": [
    "life_smoking = pd.merge(fixed_life, smoking_years, \n",
    "                               left_on = ['Country', 'Code', 'Year'], right_on = ['Country', 'Code', 'Year'], \n",
    "                               how = 'inner')\n",
    "life_smoking"
   ]
  },
  {
   "cell_type": "markdown",
   "id": "731729f4",
   "metadata": {},
   "source": [
    "life_smoking.to_csv('life_smoking_merge.csv')"
   ]
  },
  {
   "cell_type": "markdown",
   "id": "61de3121",
   "metadata": {},
   "source": [
    "### Life Smoking Dev/GDP"
   ]
  },
  {
   "cell_type": "code",
   "execution_count": null,
   "id": "3b26a6f4",
   "metadata": {},
   "outputs": [],
   "source": [
    "life_smoking_dev = pd.merge(life_dev_gdp, smoking_years, \n",
    "                               left_on = ['Country', 'Code', 'Year'], right_on = ['Country', 'Code', 'Year'], \n",
    "                               how = 'inner')\n",
    "life_smoking_dev"
   ]
  },
  {
   "cell_type": "markdown",
   "id": "4f725e69",
   "metadata": {},
   "source": [
    "life_smoking_dev.to_csv('life_smoking_dev_merge.csv')"
   ]
  }
 ],
 "metadata": {
  "kernelspec": {
   "display_name": "Python 3 (ipykernel)",
   "language": "python",
   "name": "python3"
  },
  "language_info": {
   "codemirror_mode": {
    "name": "ipython",
    "version": 3
   },
   "file_extension": ".py",
   "mimetype": "text/x-python",
   "name": "python",
   "nbconvert_exporter": "python",
   "pygments_lexer": "ipython3",
   "version": "3.10.9"
  }
 },
 "nbformat": 4,
 "nbformat_minor": 5
}
